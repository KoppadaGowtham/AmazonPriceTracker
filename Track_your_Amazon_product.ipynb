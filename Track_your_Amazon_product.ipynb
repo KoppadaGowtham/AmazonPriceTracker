{
  "nbformat": 4,
  "nbformat_minor": 0,
  "metadata": {
    "colab": {
      "provenance": []
    },
    "kernelspec": {
      "name": "python3",
      "display_name": "Python 3"
    },
    "language_info": {
      "name": "python"
    }
  },
  "cells": [
    {
      "cell_type": "code",
      "execution_count": 1,
      "metadata": {
        "id": "JQo9ir51da9D"
      },
      "outputs": [],
      "source": [
        "# libraries to import\n",
        "\n",
        "import datetime\n",
        "import time\n",
        "import smtplib\n",
        "import requests\n",
        "import csv\n",
        "import datetime\n",
        "from bs4 import BeautifulSoup"
      ]
    },
    {
      "cell_type": "code",
      "source": [
        "# create a CSV file\n",
        "\n",
        "headers=['Title', 'Price', 'Date']\n",
        "\n",
        "with open('AmazonWebMonitoringData.csv', 'a+', newline='', encoding='UTF8') as f:\n",
        "  writter = csv.writer(f)\n",
        "  writter.writerow(headers)"
      ],
      "metadata": {
        "id": "xp42WWDBVy9I"
      },
      "execution_count": 2,
      "outputs": []
    },
    {
      "cell_type": "code",
      "source": [
        "#Log in on an SMTP server that requires authentication.\n",
        "\n",
        "#The arguments are:\n",
        "#user:         The user name to authenticate with.\n",
        "#password:     The password for the authentication.\n",
        "\n",
        "#make sure u enter you credentials with app logger in google setting with 2 step verification enabled to receive email alerts\n",
        "\n",
        "\n",
        "def send_mail():\n",
        "    server = smtplib.SMTP_SSL('smtp.googlemail.com',465)\n",
        "    server.ehlo()\n",
        "    server.ehlo()\n",
        "    server.login('koppadagowtham1997@gmail.com','fkni bydk rxgl dues')\n",
        "\n",
        "    subject = \"The item you want is below the price you are looking for ! Now is your chance to buy!\"\n",
        "    body = \"please check ur amazon prime wishlist to get your item\"\n",
        "\n",
        "    msg = f\"Subject: {subject}\\n\\n{body}\"\n",
        "\n",
        "    server.sendmail('koppadagowtham1997@gmail.com','koppadagowtham1997@gmail.com',msg)"
      ],
      "metadata": {
        "id": "AaHVEDXKaxaL"
      },
      "execution_count": 6,
      "outputs": []
    },
    {
      "cell_type": "code",
      "source": [
        "from re import X\n",
        "def check_Price():\n",
        "  # enter the url you want to monitor from amazon website along side you user agent in headers to know its coming from a valid user.\n",
        "  # get your user agent from  https://httpbin.org/get\n",
        "  URL= ' **********  '\n",
        "  headers = {\"User-Agent\": \" ******* \", \"Accept-Encoding\":\"gzip, deflate\", \"Accept\":\"text/html,application/xhtml+xml,application/xml;q=0.9,*/*;q=0.8\", \"DNT\":\"1\",\"Connection\":\"close\", \"Upgrade-Insecure-Requests\":\"1\"}\n",
        "\n",
        "  page = requests.get(URL,headers=headers)\n",
        "  output = BeautifulSoup(page.content, \"html.parser\")\n",
        "  pretty_output = BeautifulSoup(output.prettify(), \"html.parser\")\n",
        "\n",
        "  x1 = pretty_output.find(id='productTitle').get_text()\n",
        "  x2 = pretty_output.find(id='corePrice_feature_div').get_text()\n",
        "  title = x1.strip()\n",
        "  price = x2.strip()[1:7]\n",
        "\n",
        "  today= datetime.date.today()\n",
        "  data= [title, price, today]\n",
        "\n",
        "  with open('AmazonShoppingMonitoringData.csv', 'a+', newline='', encoding='UTF8') as f:\n",
        "    writter = csv.writer(f)\n",
        "    writter.writerow(data)\n",
        "\n",
        "  # set the threshold price you want to\n",
        "  if(float(price)< \"enter price you want to set limit to receive a notification email\" ):\n",
        "    send_mail()"
      ],
      "metadata": {
        "id": "GD6E2OUMQhFY"
      },
      "execution_count": 7,
      "outputs": []
    },
    {
      "cell_type": "code",
      "source": [
        "while(True):\n",
        "  check_Price()\n",
        "  time.sleep(20)"
      ],
      "metadata": {
        "id": "pgXyh-JFRRWV"
      },
      "execution_count": null,
      "outputs": []
    }
  ]
}